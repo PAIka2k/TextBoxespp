{
 "cells": [
  {
   "cell_type": "code",
   "execution_count": 1,
   "metadata": {},
   "outputs": [],
   "source": [
    "\"\"\"Tools for vizualisation of convolutional neural network filter in keras models.\"\"\"\n",
    "\n",
    "import numpy as np\n",
    "import matplotlib.pyplot as plt"
   ]
  },
  {
   "cell_type": "code",
   "execution_count": 2,
   "metadata": {},
   "outputs": [],
   "source": [
    "def to_rec(box, image_size):\n",
    "    \"\"\"Finds minimum rectangle around some points and scales it to desired \n",
    "    image size.\n",
    "    \n",
    "    # Arguments\n",
    "        box: Box or points [x1, y1, x2, y2, ...] with values between 0 and 1.\n",
    "        image_size: Size of output image.\n",
    "    # Return\n",
    "        xy_rec: Corner coordinates of rectangle, array of shape (4, 2).\n",
    "    \"\"\"\n",
    "    image_h, image_w = image_size\n",
    "    xmin = np.min(box[0::2]) * image_w\n",
    "    xmax = np.max(box[0::2]) * image_w\n",
    "    ymin = np.min(box[1::2]) * image_h\n",
    "    ymax = np.max(box[1::2]) * image_h\n",
    "    xy_rec = np.array([[xmin, ymin], [xmax, ymin], [xmax, ymax], [xmin, ymax]])\n",
    "    return xy_rec"
   ]
  },
  {
   "cell_type": "code",
   "execution_count": 3,
   "metadata": {},
   "outputs": [],
   "source": [
    "def plot_box(box, box_format='xywh', color='r', linewidth=1, normalized=False, vertices=False):\n",
    "    if box_format == 'xywh': # opencv\n",
    "        xmin, ymin, w, h = box\n",
    "        xmax, ymax = xmin + w, ymin + h\n",
    "    elif box_format == 'xyxy':\n",
    "        xmin, ymin, xmax, ymax = box\n",
    "    if box_format == 'polygon':\n",
    "        xy_rec = np.reshape(box, (-1, 2))\n",
    "    else:\n",
    "        xy_rec = np.array([[xmin, ymin], [xmax, ymin], [xmax, ymax], [xmin, ymax]])\n",
    "    if normalized:\n",
    "        im = plt.gci()\n",
    "        xy_rec = xy_rec * np.tile(im.get_size(), (4,1))\n",
    "    ax = plt.gca()\n",
    "    ax.add_patch(plt.Polygon(xy_rec, fill=False, edgecolor=color, linewidth=linewidth))\n",
    "    if vertices:\n",
    "        c = 'rgby'\n",
    "        for i in range(4):\n",
    "            plt.plot(xy_rec[i,0],xy_rec[i,1], c[i], marker='o', markersize=4)"
   ]
  }
 ],
 "metadata": {
  "kernelspec": {
   "display_name": "Python 3",
   "language": "python",
   "name": "python3"
  },
  "language_info": {
   "codemirror_mode": {
    "name": "ipython",
    "version": 3
   },
   "file_extension": ".py",
   "mimetype": "text/x-python",
   "name": "python",
   "nbconvert_exporter": "python",
   "pygments_lexer": "ipython3",
   "version": "3.6.8"
  }
 },
 "nbformat": 4,
 "nbformat_minor": 2
}
