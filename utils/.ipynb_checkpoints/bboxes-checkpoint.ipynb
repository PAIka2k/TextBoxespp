{
 "cells": [
  {
   "cell_type": "code",
   "execution_count": 1,
   "metadata": {},
   "outputs": [],
   "source": [
    "import numpy as np\n",
    "from numpy.linalg import norm\n",
    "eps = 1e-10"
   ]
  },
  {
   "cell_type": "code",
   "execution_count": 2,
   "metadata": {},
   "outputs": [],
   "source": [
    "def polygon_to_rbox3(xy):\n",
    "    # two points at the center of the left and right edge plus heigth\n",
    "    tl, tr, br, bl = xy\n",
    "    # length of top and bottom edge\n",
    "    dt, db = tr-tl, bl-br\n",
    "    # height is mean between distance from top to bottom right and distance from top edge to bottom left\n",
    "    h = (norm(np.cross(dt, tl-br)) + norm(np.cross(dt, tr-bl))) / (2*(norm(dt)+eps))\n",
    "    p1 = (tl + bl) / 2.\n",
    "    p2 = (tr + br) / 2. \n",
    "    return np.hstack((p1,p2,h))"
   ]
  },
  {
   "cell_type": "code",
   "execution_count": 3,
   "metadata": {},
   "outputs": [],
   "source": [
    "def rbox3_to_polygon(rbox):\n",
    "    x1, y1, x2, y2, h = rbox\n",
    "    alpha = np.arctan2(x1-x2, y2-y1)\n",
    "    dx = -h*np.cos(alpha) / 2.\n",
    "    dy = -h*np.sin(alpha) / 2.\n",
    "    xy = np.reshape([x1-dx,y1-dy,x2-dx,y2-dy,x2+dx,y2+dy,x1+dx,y1+dy], (-1,2))\n",
    "    return xy"
   ]
  }
 ],
 "metadata": {
  "kernelspec": {
   "display_name": "Python 3",
   "language": "python",
   "name": "python3"
  },
  "language_info": {
   "codemirror_mode": {
    "name": "ipython",
    "version": 3
   },
   "file_extension": ".py",
   "mimetype": "text/x-python",
   "name": "python",
   "nbconvert_exporter": "python",
   "pygments_lexer": "ipython3",
   "version": "3.6.8"
  }
 },
 "nbformat": 4,
 "nbformat_minor": 2
}
