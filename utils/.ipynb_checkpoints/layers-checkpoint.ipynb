{
 "cells": [
  {
   "cell_type": "code",
   "execution_count": 1,
   "metadata": {},
   "outputs": [],
   "source": [
    "\"\"\"Some special pupropse layers for SSD.\"\"\"\n",
    "import tensorflow.keras.backend as K\n",
    "from tensorflow.keras import initializers\n",
    "from tensorflow.keras.layers import Layer\n",
    "import numpy as np"
   ]
  },
  {
   "cell_type": "code",
   "execution_count": 2,
   "metadata": {},
   "outputs": [],
   "source": [
    "class Normalize(Layer):\n",
    "    \"\"\"Normalization layer as described in ParseNet paper.\n",
    "    # Arguments\n",
    "        scale: Default feature scale.\n",
    "    # Input shape\n",
    "        4D tensor with shape: (samples, rows, cols, channels)\n",
    "    # Output shape\n",
    "        Same as input\n",
    "    # References\n",
    "        http://cs.unc.edu/~wliu/papers/parsenet.pdf\n",
    "    # TODO\n",
    "        Add possibility to have one scale for all features.\n",
    "    \"\"\"\n",
    "    def __init__(self, scale=20, **kwargs):\n",
    "        self.scale = scale\n",
    "        super(Normalize, self).__init__(**kwargs)\n",
    "\n",
    "    def build(self, input_shape):\n",
    "        self.gamma = self.add_weight(name=self.name+'_gamma', \n",
    "                                     shape=(input_shape[-1],),\n",
    "                                     initializer=initializers.Constant(self.scale), \n",
    "                                     trainable=True)\n",
    "        super(Normalize, self).build(input_shape)\n",
    "        \n",
    "    def call(self, x, mask=None):\n",
    "        return self.gamma * K.l2_normalize(x, axis=-1)"
   ]
  }
 ],
 "metadata": {
  "kernelspec": {
   "display_name": "Python 3",
   "language": "python",
   "name": "python3"
  },
  "language_info": {
   "codemirror_mode": {
    "name": "ipython",
    "version": 3
   },
   "file_extension": ".py",
   "mimetype": "text/x-python",
   "name": "python",
   "nbconvert_exporter": "python",
   "pygments_lexer": "ipython3",
   "version": "3.6.8"
  }
 },
 "nbformat": 4,
 "nbformat_minor": 2
}
